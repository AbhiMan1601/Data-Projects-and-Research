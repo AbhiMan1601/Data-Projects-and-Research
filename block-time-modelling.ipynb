{
 "cells": [
  {
   "cell_type": "code",
   "execution_count": 1,
   "id": "44d064a9",
   "metadata": {
    "_cell_guid": "b1076dfc-b9ad-4769-8c92-a6c4dae69d19",
    "_uuid": "8f2839f25d086af736a60e9eeb907d3b93b6e0e5",
    "execution": {
     "iopub.execute_input": "2022-06-18T11:23:00.162591Z",
     "iopub.status.busy": "2022-06-18T11:23:00.162096Z",
     "iopub.status.idle": "2022-06-18T11:23:00.189647Z",
     "shell.execute_reply": "2022-06-18T11:23:00.188724Z"
    },
    "papermill": {
     "duration": 0.0487,
     "end_time": "2022-06-18T11:23:00.193160",
     "exception": false,
     "start_time": "2022-06-18T11:23:00.144460",
     "status": "completed"
    },
    "tags": []
   },
   "outputs": [
    {
     "name": "stdout",
     "output_type": "stream",
     "text": [
      "/kaggle/input/block-data/Block_data.csv\n"
     ]
    }
   ],
   "source": [
    "# This Python 3 environment comes with many helpful analytics libraries installed\n",
    "# It is defined by the kaggle/python Docker image: https://github.com/kaggle/docker-python\n",
    "# For example, here's several helpful packages to load\n",
    "\n",
    "import numpy as np # linear algebra\n",
    "import pandas as pd # data processing, CSV file I/O (e.g. pd.read_csv)\n",
    "\n",
    "# Input data files are available in the read-only \"../input/\" directory\n",
    "# For example, running this (by clicking run or pressing Shift+Enter) will list all files under the input directory\n",
    "\n",
    "import os\n",
    "for dirname, _, filenames in os.walk('/kaggle/input'):\n",
    "    for filename in filenames:\n",
    "        print(os.path.join(dirname, filename))\n",
    "\n",
    "# You can write up to 20GB to the current directory (/kaggle/working/) that gets preserved as output when you create a version using \"Save & Run All\" \n",
    "# You can also write temporary files to /kaggle/temp/, but they won't be saved outside of the current session"
   ]
  },
  {
   "cell_type": "code",
   "execution_count": 2,
   "id": "707484f3",
   "metadata": {
    "execution": {
     "iopub.execute_input": "2022-06-18T11:23:00.221032Z",
     "iopub.status.busy": "2022-06-18T11:23:00.220155Z",
     "iopub.status.idle": "2022-06-18T11:23:00.263642Z",
     "shell.execute_reply": "2022-06-18T11:23:00.262583Z"
    },
    "papermill": {
     "duration": 0.058955,
     "end_time": "2022-06-18T11:23:00.267006",
     "exception": false,
     "start_time": "2022-06-18T11:23:00.208051",
     "status": "completed"
    },
    "tags": []
   },
   "outputs": [
    {
     "data": {
      "text/html": [
       "<div>\n",
       "<style scoped>\n",
       "    .dataframe tbody tr th:only-of-type {\n",
       "        vertical-align: middle;\n",
       "    }\n",
       "\n",
       "    .dataframe tbody tr th {\n",
       "        vertical-align: top;\n",
       "    }\n",
       "\n",
       "    .dataframe thead th {\n",
       "        text-align: right;\n",
       "    }\n",
       "</style>\n",
       "<table border=\"1\" class=\"dataframe\">\n",
       "  <thead>\n",
       "    <tr style=\"text-align: right;\">\n",
       "      <th></th>\n",
       "      <th>Date(UTC)</th>\n",
       "      <th>UnixTimeStamp</th>\n",
       "      <th>Block_Time_Value</th>\n",
       "      <th>Net_Hash_Value</th>\n",
       "      <th>Difficulty_Value</th>\n",
       "    </tr>\n",
       "  </thead>\n",
       "  <tbody>\n",
       "    <tr>\n",
       "      <th>0</th>\n",
       "      <td>7/30/2015</td>\n",
       "      <td>1438214400</td>\n",
       "      <td>4.46</td>\n",
       "      <td>11.5297</td>\n",
       "      <td>0.121</td>\n",
       "    </tr>\n",
       "    <tr>\n",
       "      <th>1</th>\n",
       "      <td>7/31/2015</td>\n",
       "      <td>1438300800</td>\n",
       "      <td>12.58</td>\n",
       "      <td>51.4594</td>\n",
       "      <td>0.603</td>\n",
       "    </tr>\n",
       "    <tr>\n",
       "      <th>2</th>\n",
       "      <td>08-01-2015</td>\n",
       "      <td>1438387200</td>\n",
       "      <td>16.34</td>\n",
       "      <td>57.7845</td>\n",
       "      <td>0.887</td>\n",
       "    </tr>\n",
       "    <tr>\n",
       "      <th>3</th>\n",
       "      <td>08-02-2015</td>\n",
       "      <td>1438473600</td>\n",
       "      <td>16.12</td>\n",
       "      <td>67.9224</td>\n",
       "      <td>1.020</td>\n",
       "    </tr>\n",
       "    <tr>\n",
       "      <th>4</th>\n",
       "      <td>08-03-2015</td>\n",
       "      <td>1438560000</td>\n",
       "      <td>16.37</td>\n",
       "      <td>74.5737</td>\n",
       "      <td>1.126</td>\n",
       "    </tr>\n",
       "  </tbody>\n",
       "</table>\n",
       "</div>"
      ],
      "text/plain": [
       "    Date(UTC)  UnixTimeStamp  Block_Time_Value  Net_Hash_Value  \\\n",
       "0   7/30/2015     1438214400              4.46         11.5297   \n",
       "1   7/31/2015     1438300800             12.58         51.4594   \n",
       "2  08-01-2015     1438387200             16.34         57.7845   \n",
       "3  08-02-2015     1438473600             16.12         67.9224   \n",
       "4  08-03-2015     1438560000             16.37         74.5737   \n",
       "\n",
       "   Difficulty_Value  \n",
       "0             0.121  \n",
       "1             0.603  \n",
       "2             0.887  \n",
       "3             1.020  \n",
       "4             1.126  "
      ]
     },
     "execution_count": 2,
     "metadata": {},
     "output_type": "execute_result"
    }
   ],
   "source": [
    "data = pd.read_csv(\"/kaggle/input/block-data/Block_data.csv\")\n",
    "data.head()"
   ]
  },
  {
   "cell_type": "code",
   "execution_count": 3,
   "id": "b24f492d",
   "metadata": {
    "execution": {
     "iopub.execute_input": "2022-06-18T11:23:00.284207Z",
     "iopub.status.busy": "2022-06-18T11:23:00.283860Z",
     "iopub.status.idle": "2022-06-18T11:23:00.308975Z",
     "shell.execute_reply": "2022-06-18T11:23:00.307482Z"
    },
    "papermill": {
     "duration": 0.035969,
     "end_time": "2022-06-18T11:23:00.311055",
     "exception": false,
     "start_time": "2022-06-18T11:23:00.275086",
     "status": "completed"
    },
    "tags": []
   },
   "outputs": [
    {
     "name": "stdout",
     "output_type": "stream",
     "text": [
      "<class 'pandas.core.frame.DataFrame'>\n",
      "RangeIndex: 2515 entries, 0 to 2514\n",
      "Data columns (total 5 columns):\n",
      " #   Column            Non-Null Count  Dtype  \n",
      "---  ------            --------------  -----  \n",
      " 0   Date(UTC)         2515 non-null   object \n",
      " 1   UnixTimeStamp     2515 non-null   int64  \n",
      " 2   Block_Time_Value  2515 non-null   float64\n",
      " 3   Net_Hash_Value    2515 non-null   float64\n",
      " 4   Difficulty_Value  2515 non-null   float64\n",
      "dtypes: float64(3), int64(1), object(1)\n",
      "memory usage: 98.4+ KB\n"
     ]
    }
   ],
   "source": [
    "data.info()"
   ]
  },
  {
   "cell_type": "code",
   "execution_count": 4,
   "id": "34f337d1",
   "metadata": {
    "execution": {
     "iopub.execute_input": "2022-06-18T11:23:00.329280Z",
     "iopub.status.busy": "2022-06-18T11:23:00.328410Z",
     "iopub.status.idle": "2022-06-18T11:23:00.425184Z",
     "shell.execute_reply": "2022-06-18T11:23:00.424120Z"
    },
    "papermill": {
     "duration": 0.108231,
     "end_time": "2022-06-18T11:23:00.427212",
     "exception": false,
     "start_time": "2022-06-18T11:23:00.318981",
     "status": "completed"
    },
    "tags": []
   },
   "outputs": [
    {
     "data": {
      "text/html": [
       "<div>\n",
       "<style scoped>\n",
       "    .dataframe tbody tr th:only-of-type {\n",
       "        vertical-align: middle;\n",
       "    }\n",
       "\n",
       "    .dataframe tbody tr th {\n",
       "        vertical-align: top;\n",
       "    }\n",
       "\n",
       "    .dataframe thead th {\n",
       "        text-align: right;\n",
       "    }\n",
       "</style>\n",
       "<table border=\"1\" class=\"dataframe\">\n",
       "  <thead>\n",
       "    <tr style=\"text-align: right;\">\n",
       "      <th></th>\n",
       "      <th>Date(UTC)</th>\n",
       "      <th>UnixTimeStamp</th>\n",
       "      <th>Block_Time_Value</th>\n",
       "      <th>Net_Hash_Value</th>\n",
       "      <th>Difficulty_Value</th>\n",
       "      <th>Date</th>\n",
       "    </tr>\n",
       "  </thead>\n",
       "  <tbody>\n",
       "    <tr>\n",
       "      <th>0</th>\n",
       "      <td>7/30/2015</td>\n",
       "      <td>1438214400</td>\n",
       "      <td>4.46</td>\n",
       "      <td>11.5297</td>\n",
       "      <td>0.121</td>\n",
       "      <td>2015-07-30</td>\n",
       "    </tr>\n",
       "    <tr>\n",
       "      <th>1</th>\n",
       "      <td>7/31/2015</td>\n",
       "      <td>1438300800</td>\n",
       "      <td>12.58</td>\n",
       "      <td>51.4594</td>\n",
       "      <td>0.603</td>\n",
       "      <td>2015-07-31</td>\n",
       "    </tr>\n",
       "    <tr>\n",
       "      <th>2</th>\n",
       "      <td>08-01-2015</td>\n",
       "      <td>1438387200</td>\n",
       "      <td>16.34</td>\n",
       "      <td>57.7845</td>\n",
       "      <td>0.887</td>\n",
       "      <td>2015-08-01</td>\n",
       "    </tr>\n",
       "    <tr>\n",
       "      <th>3</th>\n",
       "      <td>08-02-2015</td>\n",
       "      <td>1438473600</td>\n",
       "      <td>16.12</td>\n",
       "      <td>67.9224</td>\n",
       "      <td>1.020</td>\n",
       "      <td>2015-08-02</td>\n",
       "    </tr>\n",
       "    <tr>\n",
       "      <th>4</th>\n",
       "      <td>08-03-2015</td>\n",
       "      <td>1438560000</td>\n",
       "      <td>16.37</td>\n",
       "      <td>74.5737</td>\n",
       "      <td>1.126</td>\n",
       "      <td>2015-08-03</td>\n",
       "    </tr>\n",
       "  </tbody>\n",
       "</table>\n",
       "</div>"
      ],
      "text/plain": [
       "    Date(UTC)  UnixTimeStamp  Block_Time_Value  Net_Hash_Value  \\\n",
       "0   7/30/2015     1438214400              4.46         11.5297   \n",
       "1   7/31/2015     1438300800             12.58         51.4594   \n",
       "2  08-01-2015     1438387200             16.34         57.7845   \n",
       "3  08-02-2015     1438473600             16.12         67.9224   \n",
       "4  08-03-2015     1438560000             16.37         74.5737   \n",
       "\n",
       "   Difficulty_Value       Date  \n",
       "0             0.121 2015-07-30  \n",
       "1             0.603 2015-07-31  \n",
       "2             0.887 2015-08-01  \n",
       "3             1.020 2015-08-02  \n",
       "4             1.126 2015-08-03  "
      ]
     },
     "execution_count": 4,
     "metadata": {},
     "output_type": "execute_result"
    }
   ],
   "source": [
    "# convert column to datetime pandas\n",
    "data['Date'] = pd.to_datetime(data['Date(UTC)'])\n",
    "data.head()"
   ]
  },
  {
   "cell_type": "code",
   "execution_count": 5,
   "id": "18c45404",
   "metadata": {
    "execution": {
     "iopub.execute_input": "2022-06-18T11:23:00.446342Z",
     "iopub.status.busy": "2022-06-18T11:23:00.445395Z",
     "iopub.status.idle": "2022-06-18T11:23:00.451436Z",
     "shell.execute_reply": "2022-06-18T11:23:00.450226Z"
    },
    "papermill": {
     "duration": 0.017217,
     "end_time": "2022-06-18T11:23:00.453489",
     "exception": false,
     "start_time": "2022-06-18T11:23:00.436272",
     "status": "completed"
    },
    "tags": []
   },
   "outputs": [],
   "source": [
    "data['Difficulty_Value']= 1000*data['Difficulty_Value']"
   ]
  },
  {
   "cell_type": "code",
   "execution_count": 6,
   "id": "88d1db37",
   "metadata": {
    "execution": {
     "iopub.execute_input": "2022-06-18T11:23:00.472675Z",
     "iopub.status.busy": "2022-06-18T11:23:00.471693Z",
     "iopub.status.idle": "2022-06-18T11:23:00.490753Z",
     "shell.execute_reply": "2022-06-18T11:23:00.489647Z"
    },
    "papermill": {
     "duration": 0.031327,
     "end_time": "2022-06-18T11:23:00.493222",
     "exception": false,
     "start_time": "2022-06-18T11:23:00.461895",
     "status": "completed"
    },
    "tags": []
   },
   "outputs": [
    {
     "data": {
      "text/html": [
       "<div>\n",
       "<style scoped>\n",
       "    .dataframe tbody tr th:only-of-type {\n",
       "        vertical-align: middle;\n",
       "    }\n",
       "\n",
       "    .dataframe tbody tr th {\n",
       "        vertical-align: top;\n",
       "    }\n",
       "\n",
       "    .dataframe thead th {\n",
       "        text-align: right;\n",
       "    }\n",
       "</style>\n",
       "<table border=\"1\" class=\"dataframe\">\n",
       "  <thead>\n",
       "    <tr style=\"text-align: right;\">\n",
       "      <th></th>\n",
       "      <th>Date</th>\n",
       "      <th>Block_Time_Value</th>\n",
       "      <th>Net_Hash_Value</th>\n",
       "      <th>Difficulty_Value</th>\n",
       "    </tr>\n",
       "  </thead>\n",
       "  <tbody>\n",
       "    <tr>\n",
       "      <th>0</th>\n",
       "      <td>2015-07-30</td>\n",
       "      <td>4.46</td>\n",
       "      <td>11.5297</td>\n",
       "      <td>121.0</td>\n",
       "    </tr>\n",
       "    <tr>\n",
       "      <th>1</th>\n",
       "      <td>2015-07-31</td>\n",
       "      <td>12.58</td>\n",
       "      <td>51.4594</td>\n",
       "      <td>603.0</td>\n",
       "    </tr>\n",
       "    <tr>\n",
       "      <th>2</th>\n",
       "      <td>2015-08-01</td>\n",
       "      <td>16.34</td>\n",
       "      <td>57.7845</td>\n",
       "      <td>887.0</td>\n",
       "    </tr>\n",
       "    <tr>\n",
       "      <th>3</th>\n",
       "      <td>2015-08-02</td>\n",
       "      <td>16.12</td>\n",
       "      <td>67.9224</td>\n",
       "      <td>1020.0</td>\n",
       "    </tr>\n",
       "    <tr>\n",
       "      <th>4</th>\n",
       "      <td>2015-08-03</td>\n",
       "      <td>16.37</td>\n",
       "      <td>74.5737</td>\n",
       "      <td>1126.0</td>\n",
       "    </tr>\n",
       "  </tbody>\n",
       "</table>\n",
       "</div>"
      ],
      "text/plain": [
       "        Date  Block_Time_Value  Net_Hash_Value  Difficulty_Value\n",
       "0 2015-07-30              4.46         11.5297             121.0\n",
       "1 2015-07-31             12.58         51.4594             603.0\n",
       "2 2015-08-01             16.34         57.7845             887.0\n",
       "3 2015-08-02             16.12         67.9224            1020.0\n",
       "4 2015-08-03             16.37         74.5737            1126.0"
      ]
     },
     "execution_count": 6,
     "metadata": {},
     "output_type": "execute_result"
    }
   ],
   "source": [
    "data = data[['Date','Block_Time_Value','Net_Hash_Value','Difficulty_Value']]\n",
    "data.head()"
   ]
  },
  {
   "cell_type": "code",
   "execution_count": 7,
   "id": "15808557",
   "metadata": {
    "execution": {
     "iopub.execute_input": "2022-06-18T11:23:00.514782Z",
     "iopub.status.busy": "2022-06-18T11:23:00.514195Z",
     "iopub.status.idle": "2022-06-18T11:23:00.527516Z",
     "shell.execute_reply": "2022-06-18T11:23:00.526591Z"
    },
    "papermill": {
     "duration": 0.024999,
     "end_time": "2022-06-18T11:23:00.529462",
     "exception": false,
     "start_time": "2022-06-18T11:23:00.504463",
     "status": "completed"
    },
    "tags": []
   },
   "outputs": [
    {
     "data": {
      "text/html": [
       "<div>\n",
       "<style scoped>\n",
       "    .dataframe tbody tr th:only-of-type {\n",
       "        vertical-align: middle;\n",
       "    }\n",
       "\n",
       "    .dataframe tbody tr th {\n",
       "        vertical-align: top;\n",
       "    }\n",
       "\n",
       "    .dataframe thead th {\n",
       "        text-align: right;\n",
       "    }\n",
       "</style>\n",
       "<table border=\"1\" class=\"dataframe\">\n",
       "  <thead>\n",
       "    <tr style=\"text-align: right;\">\n",
       "      <th></th>\n",
       "      <th>Block_Time_Value</th>\n",
       "      <th>Net_Hash_Value</th>\n",
       "      <th>Difficulty_Value</th>\n",
       "    </tr>\n",
       "  </thead>\n",
       "  <tbody>\n",
       "    <tr>\n",
       "      <th>Block_Time_Value</th>\n",
       "      <td>1.000000</td>\n",
       "      <td>-0.313085</td>\n",
       "      <td>-0.259383</td>\n",
       "    </tr>\n",
       "    <tr>\n",
       "      <th>Net_Hash_Value</th>\n",
       "      <td>-0.313085</td>\n",
       "      <td>1.000000</td>\n",
       "      <td>0.997454</td>\n",
       "    </tr>\n",
       "    <tr>\n",
       "      <th>Difficulty_Value</th>\n",
       "      <td>-0.259383</td>\n",
       "      <td>0.997454</td>\n",
       "      <td>1.000000</td>\n",
       "    </tr>\n",
       "  </tbody>\n",
       "</table>\n",
       "</div>"
      ],
      "text/plain": [
       "                  Block_Time_Value  Net_Hash_Value  Difficulty_Value\n",
       "Block_Time_Value          1.000000       -0.313085         -0.259383\n",
       "Net_Hash_Value           -0.313085        1.000000          0.997454\n",
       "Difficulty_Value         -0.259383        0.997454          1.000000"
      ]
     },
     "execution_count": 7,
     "metadata": {},
     "output_type": "execute_result"
    }
   ],
   "source": [
    "data.corr()"
   ]
  },
  {
   "cell_type": "code",
   "execution_count": 8,
   "id": "0f4b9acf",
   "metadata": {
    "execution": {
     "iopub.execute_input": "2022-06-18T11:23:00.547515Z",
     "iopub.status.busy": "2022-06-18T11:23:00.546916Z",
     "iopub.status.idle": "2022-06-18T11:23:01.961096Z",
     "shell.execute_reply": "2022-06-18T11:23:01.960333Z"
    },
    "papermill": {
     "duration": 1.42573,
     "end_time": "2022-06-18T11:23:01.963345",
     "exception": false,
     "start_time": "2022-06-18T11:23:00.537615",
     "status": "completed"
    },
    "tags": []
   },
   "outputs": [
    {
     "data": {
      "text/plain": [
       "<AxesSubplot:xlabel='Date', ylabel='Difficulty_Value'>"
      ]
     },
     "execution_count": 8,
     "metadata": {},
     "output_type": "execute_result"
    },
    {
     "data": {
      "image/png": "[encoded data removed]",
      "text/plain": [
       "<Figure size 432x288 with 1 Axes>"
      ]
     },
     "metadata": {
      "needs_background": "light"
     },
     "output_type": "display_data"
    }
   ],
   "source": [
    "import seaborn as sns\n",
    "\n",
    "sns.lineplot(data = data, x=\"Date\", y=\"Difficulty_Value\")"
   ]
  },
  {
   "cell_type": "code",
   "execution_count": 9,
   "id": "97e2e6bd",
   "metadata": {
    "execution": {
     "iopub.execute_input": "2022-06-18T11:23:01.983184Z",
     "iopub.status.busy": "2022-06-18T11:23:01.982617Z",
     "iopub.status.idle": "2022-06-18T11:23:02.279860Z",
     "shell.execute_reply": "2022-06-18T11:23:02.278577Z"
    },
    "papermill": {
     "duration": 0.309662,
     "end_time": "2022-06-18T11:23:02.282209",
     "exception": false,
     "start_time": "2022-06-18T11:23:01.972547",
     "status": "completed"
    },
    "tags": []
   },
   "outputs": [
    {
     "data": {
      "text/plain": [
       "<AxesSubplot:xlabel='Date', ylabel='Net_Hash_Value'>"
      ]
     },
     "execution_count": 9,
     "metadata": {},
     "output_type": "execute_result"
    },
    {
     "data": {
      "image/png": "[encoded data removed]",
      "text/plain": [
       "<Figure size 432x288 with 1 Axes>"
      ]
     },
     "metadata": {
      "needs_background": "light"
     },
     "output_type": "display_data"
    }
   ],
   "source": [
    "sns.lineplot(data = data, x=\"Date\", y=\"Net_Hash_Value\")"
   ]
  },
  {
   "cell_type": "code",
   "execution_count": 10,
   "id": "e488abe8",
   "metadata": {
    "execution": {
     "iopub.execute_input": "2022-06-18T11:23:02.303952Z",
     "iopub.status.busy": "2022-06-18T11:23:02.303130Z",
     "iopub.status.idle": "2022-06-18T11:23:02.616041Z",
     "shell.execute_reply": "2022-06-18T11:23:02.615097Z"
    },
    "papermill": {
     "duration": 0.326289,
     "end_time": "2022-06-18T11:23:02.618432",
     "exception": false,
     "start_time": "2022-06-18T11:23:02.292143",
     "status": "completed"
    },
    "tags": []
   },
   "outputs": [
    {
     "data": {
      "text/plain": [
       "<AxesSubplot:xlabel='Date', ylabel='Block_Time_Value'>"
      ]
     },
     "execution_count": 10,
     "metadata": {},
     "output_type": "execute_result"
    },
    {
     "data": {
      "image/png": "[encoded data removed]",
      "text/plain": [
       "<Figure size 432x288 with 1 Axes>"
      ]
     },
     "metadata": {
      "needs_background": "light"
     },
     "output_type": "display_data"
    }
   ],
   "source": [
    "sns.lineplot(data = data, x=\"Date\", y=\"Block_Time_Value\")"
   ]
  },
  {
   "cell_type": "markdown",
   "id": "b6c5aaf8",
   "metadata": {
    "papermill": {
     "duration": 0.010813,
     "end_time": "2022-06-18T11:23:02.639543",
     "exception": false,
     "start_time": "2022-06-18T11:23:02.628730",
     "status": "completed"
    },
    "tags": []
   },
   "source": [
    "# Observations and Ideas\n",
    "Difficulty = Hash Rate/ Total number of miners \n",
    "https://medium.com/simplemining/what-affects-the-mining-profitability-for-ethereum-540fa9ef2bc5\n",
    "\n"
   ]
  },
  {
   "cell_type": "code",
   "execution_count": 11,
   "id": "f80c6b7e",
   "metadata": {
    "execution": {
     "iopub.execute_input": "2022-06-18T11:23:02.662324Z",
     "iopub.status.busy": "2022-06-18T11:23:02.661667Z",
     "iopub.status.idle": "2022-06-18T11:23:02.676490Z",
     "shell.execute_reply": "2022-06-18T11:23:02.675485Z"
    },
    "papermill": {
     "duration": 0.029314,
     "end_time": "2022-06-18T11:23:02.679203",
     "exception": false,
     "start_time": "2022-06-18T11:23:02.649889",
     "status": "completed"
    },
    "tags": []
   },
   "outputs": [
    {
     "data": {
      "text/html": [
       "<div>\n",
       "<style scoped>\n",
       "    .dataframe tbody tr th:only-of-type {\n",
       "        vertical-align: middle;\n",
       "    }\n",
       "\n",
       "    .dataframe tbody tr th {\n",
       "        vertical-align: top;\n",
       "    }\n",
       "\n",
       "    .dataframe thead th {\n",
       "        text-align: right;\n",
       "    }\n",
       "</style>\n",
       "<table border=\"1\" class=\"dataframe\">\n",
       "  <thead>\n",
       "    <tr style=\"text-align: right;\">\n",
       "      <th></th>\n",
       "      <th>Date</th>\n",
       "      <th>Block_Time_Value</th>\n",
       "      <th>Net_Hash_Value</th>\n",
       "      <th>Difficulty_Value</th>\n",
       "      <th>Change</th>\n",
       "    </tr>\n",
       "  </thead>\n",
       "  <tbody>\n",
       "    <tr>\n",
       "      <th>0</th>\n",
       "      <td>2015-07-30</td>\n",
       "      <td>4.46</td>\n",
       "      <td>11.5297</td>\n",
       "      <td>121.0</td>\n",
       "      <td>NaN</td>\n",
       "    </tr>\n",
       "    <tr>\n",
       "      <th>1</th>\n",
       "      <td>2015-07-31</td>\n",
       "      <td>12.58</td>\n",
       "      <td>51.4594</td>\n",
       "      <td>603.0</td>\n",
       "      <td>482.0</td>\n",
       "    </tr>\n",
       "    <tr>\n",
       "      <th>2</th>\n",
       "      <td>2015-08-01</td>\n",
       "      <td>16.34</td>\n",
       "      <td>57.7845</td>\n",
       "      <td>887.0</td>\n",
       "      <td>284.0</td>\n",
       "    </tr>\n",
       "    <tr>\n",
       "      <th>3</th>\n",
       "      <td>2015-08-02</td>\n",
       "      <td>16.12</td>\n",
       "      <td>67.9224</td>\n",
       "      <td>1020.0</td>\n",
       "      <td>133.0</td>\n",
       "    </tr>\n",
       "    <tr>\n",
       "      <th>4</th>\n",
       "      <td>2015-08-03</td>\n",
       "      <td>16.37</td>\n",
       "      <td>74.5737</td>\n",
       "      <td>1126.0</td>\n",
       "      <td>106.0</td>\n",
       "    </tr>\n",
       "  </tbody>\n",
       "</table>\n",
       "</div>"
      ],
      "text/plain": [
       "        Date  Block_Time_Value  Net_Hash_Value  Difficulty_Value  Change\n",
       "0 2015-07-30              4.46         11.5297             121.0     NaN\n",
       "1 2015-07-31             12.58         51.4594             603.0   482.0\n",
       "2 2015-08-01             16.34         57.7845             887.0   284.0\n",
       "3 2015-08-02             16.12         67.9224            1020.0   133.0\n",
       "4 2015-08-03             16.37         74.5737            1126.0   106.0"
      ]
     },
     "execution_count": 11,
     "metadata": {},
     "output_type": "execute_result"
    }
   ],
   "source": [
    "data[\"Change\"] = data[\"Difficulty_Value\"] - data[\"Difficulty_Value\"].shift()\n",
    "data.head()"
   ]
  },
  {
   "cell_type": "code",
   "execution_count": 12,
   "id": "78e21194",
   "metadata": {
    "execution": {
     "iopub.execute_input": "2022-06-18T11:23:02.701217Z",
     "iopub.status.busy": "2022-06-18T11:23:02.700248Z",
     "iopub.status.idle": "2022-06-18T11:23:03.042653Z",
     "shell.execute_reply": "2022-06-18T11:23:03.041942Z"
    },
    "papermill": {
     "duration": 0.354871,
     "end_time": "2022-06-18T11:23:03.044385",
     "exception": false,
     "start_time": "2022-06-18T11:23:02.689514",
     "status": "completed"
    },
    "tags": []
   },
   "outputs": [
    {
     "data": {
      "text/html": [
       "<div>\n",
       "<style scoped>\n",
       "    .dataframe tbody tr th:only-of-type {\n",
       "        vertical-align: middle;\n",
       "    }\n",
       "\n",
       "    .dataframe tbody tr th {\n",
       "        vertical-align: top;\n",
       "    }\n",
       "\n",
       "    .dataframe thead th {\n",
       "        text-align: right;\n",
       "    }\n",
       "</style>\n",
       "<table border=\"1\" class=\"dataframe\">\n",
       "  <thead>\n",
       "    <tr style=\"text-align: right;\">\n",
       "      <th></th>\n",
       "      <th>Date</th>\n",
       "      <th>Block_Time_Value</th>\n",
       "      <th>Net_Hash_Value</th>\n",
       "      <th>Difficulty_Value</th>\n",
       "      <th>Change</th>\n",
       "      <th>Ratio</th>\n",
       "    </tr>\n",
       "  </thead>\n",
       "  <tbody>\n",
       "    <tr>\n",
       "      <th>0</th>\n",
       "      <td>2015-07-30</td>\n",
       "      <td>4.46</td>\n",
       "      <td>11.5297</td>\n",
       "      <td>121.0</td>\n",
       "      <td>NaN</td>\n",
       "      <td>13.998704</td>\n",
       "    </tr>\n",
       "    <tr>\n",
       "      <th>1</th>\n",
       "      <td>2015-07-31</td>\n",
       "      <td>12.58</td>\n",
       "      <td>51.4594</td>\n",
       "      <td>603.0</td>\n",
       "      <td>482.0</td>\n",
       "      <td>13.998704</td>\n",
       "    </tr>\n",
       "    <tr>\n",
       "      <th>2</th>\n",
       "      <td>2015-08-01</td>\n",
       "      <td>16.34</td>\n",
       "      <td>57.7845</td>\n",
       "      <td>887.0</td>\n",
       "      <td>284.0</td>\n",
       "      <td>13.998704</td>\n",
       "    </tr>\n",
       "    <tr>\n",
       "      <th>3</th>\n",
       "      <td>2015-08-02</td>\n",
       "      <td>16.12</td>\n",
       "      <td>67.9224</td>\n",
       "      <td>1020.0</td>\n",
       "      <td>133.0</td>\n",
       "      <td>13.998704</td>\n",
       "    </tr>\n",
       "    <tr>\n",
       "      <th>4</th>\n",
       "      <td>2015-08-03</td>\n",
       "      <td>16.37</td>\n",
       "      <td>74.5737</td>\n",
       "      <td>1126.0</td>\n",
       "      <td>106.0</td>\n",
       "      <td>13.998704</td>\n",
       "    </tr>\n",
       "  </tbody>\n",
       "</table>\n",
       "</div>"
      ],
      "text/plain": [
       "        Date  Block_Time_Value  Net_Hash_Value  Difficulty_Value  Change  \\\n",
       "0 2015-07-30              4.46         11.5297             121.0     NaN   \n",
       "1 2015-07-31             12.58         51.4594             603.0   482.0   \n",
       "2 2015-08-01             16.34         57.7845             887.0   284.0   \n",
       "3 2015-08-02             16.12         67.9224            1020.0   133.0   \n",
       "4 2015-08-03             16.37         74.5737            1126.0   106.0   \n",
       "\n",
       "       Ratio  \n",
       "0  13.998704  \n",
       "1  13.998704  \n",
       "2  13.998704  \n",
       "3  13.998704  \n",
       "4  13.998704  "
      ]
     },
     "execution_count": 12,
     "metadata": {},
     "output_type": "execute_result"
    }
   ],
   "source": [
    "for i in range(2515):\n",
    "    data[\"Ratio\"]= ((data[\"Difficulty_Value\"][i]))/data[\"Net_Hash_Value\"][i]\n",
    "data.head()"
   ]
  },
  {
   "cell_type": "code",
   "execution_count": 13,
   "id": "191e792b",
   "metadata": {
    "execution": {
     "iopub.execute_input": "2022-06-18T11:23:03.068700Z",
     "iopub.status.busy": "2022-06-18T11:23:03.067792Z",
     "iopub.status.idle": "2022-06-18T11:23:03.081027Z",
     "shell.execute_reply": "2022-06-18T11:23:03.080095Z"
    },
    "papermill": {
     "duration": 0.027065,
     "end_time": "2022-06-18T11:23:03.083260",
     "exception": false,
     "start_time": "2022-06-18T11:23:03.056195",
     "status": "completed"
    },
    "tags": []
   },
   "outputs": [
    {
     "data": {
      "text/html": [
       "<div>\n",
       "<style scoped>\n",
       "    .dataframe tbody tr th:only-of-type {\n",
       "        vertical-align: middle;\n",
       "    }\n",
       "\n",
       "    .dataframe tbody tr th {\n",
       "        vertical-align: top;\n",
       "    }\n",
       "\n",
       "    .dataframe thead th {\n",
       "        text-align: right;\n",
       "    }\n",
       "</style>\n",
       "<table border=\"1\" class=\"dataframe\">\n",
       "  <thead>\n",
       "    <tr style=\"text-align: right;\">\n",
       "      <th></th>\n",
       "      <th>Block_Time_Value</th>\n",
       "      <th>Net_Hash_Value</th>\n",
       "      <th>Difficulty_Value</th>\n",
       "      <th>Change</th>\n",
       "      <th>Ratio</th>\n",
       "    </tr>\n",
       "  </thead>\n",
       "  <tbody>\n",
       "    <tr>\n",
       "      <th>Block_Time_Value</th>\n",
       "      <td>1.000000</td>\n",
       "      <td>-0.313085</td>\n",
       "      <td>-0.259383</td>\n",
       "      <td>-0.005059</td>\n",
       "      <td>NaN</td>\n",
       "    </tr>\n",
       "    <tr>\n",
       "      <th>Net_Hash_Value</th>\n",
       "      <td>-0.313085</td>\n",
       "      <td>1.000000</td>\n",
       "      <td>0.997454</td>\n",
       "      <td>0.074306</td>\n",
       "      <td>NaN</td>\n",
       "    </tr>\n",
       "    <tr>\n",
       "      <th>Difficulty_Value</th>\n",
       "      <td>-0.259383</td>\n",
       "      <td>0.997454</td>\n",
       "      <td>1.000000</td>\n",
       "      <td>0.072898</td>\n",
       "      <td>NaN</td>\n",
       "    </tr>\n",
       "    <tr>\n",
       "      <th>Change</th>\n",
       "      <td>-0.005059</td>\n",
       "      <td>0.074306</td>\n",
       "      <td>0.072898</td>\n",
       "      <td>1.000000</td>\n",
       "      <td>NaN</td>\n",
       "    </tr>\n",
       "    <tr>\n",
       "      <th>Ratio</th>\n",
       "      <td>NaN</td>\n",
       "      <td>NaN</td>\n",
       "      <td>NaN</td>\n",
       "      <td>NaN</td>\n",
       "      <td>NaN</td>\n",
       "    </tr>\n",
       "  </tbody>\n",
       "</table>\n",
       "</div>"
      ],
      "text/plain": [
       "                  Block_Time_Value  Net_Hash_Value  Difficulty_Value  \\\n",
       "Block_Time_Value          1.000000       -0.313085         -0.259383   \n",
       "Net_Hash_Value           -0.313085        1.000000          0.997454   \n",
       "Difficulty_Value         -0.259383        0.997454          1.000000   \n",
       "Change                   -0.005059        0.074306          0.072898   \n",
       "Ratio                          NaN             NaN               NaN   \n",
       "\n",
       "                    Change  Ratio  \n",
       "Block_Time_Value -0.005059    NaN  \n",
       "Net_Hash_Value    0.074306    NaN  \n",
       "Difficulty_Value  0.072898    NaN  \n",
       "Change            1.000000    NaN  \n",
       "Ratio                  NaN    NaN  "
      ]
     },
     "execution_count": 13,
     "metadata": {},
     "output_type": "execute_result"
    }
   ],
   "source": [
    "data.corr()"
   ]
  },
  {
   "cell_type": "markdown",
   "id": "12299a96",
   "metadata": {
    "papermill": {
     "duration": 0.009397,
     "end_time": "2022-06-18T11:23:03.102899",
     "exception": false,
     "start_time": "2022-06-18T11:23:03.093502",
     "status": "completed"
    },
    "tags": []
   },
   "source": [
    "Ratio same because equal number of miners considered!!"
   ]
  },
  {
   "cell_type": "code",
   "execution_count": 14,
   "id": "d174920f",
   "metadata": {
    "execution": {
     "iopub.execute_input": "2022-06-18T11:23:03.125914Z",
     "iopub.status.busy": "2022-06-18T11:23:03.125283Z",
     "iopub.status.idle": "2022-06-18T11:23:03.138253Z",
     "shell.execute_reply": "2022-06-18T11:23:03.137320Z"
    },
    "papermill": {
     "duration": 0.026978,
     "end_time": "2022-06-18T11:23:03.140196",
     "exception": false,
     "start_time": "2022-06-18T11:23:03.113218",
     "status": "completed"
    },
    "tags": []
   },
   "outputs": [
    {
     "data": {
      "text/html": [
       "<div>\n",
       "<style scoped>\n",
       "    .dataframe tbody tr th:only-of-type {\n",
       "        vertical-align: middle;\n",
       "    }\n",
       "\n",
       "    .dataframe tbody tr th {\n",
       "        vertical-align: top;\n",
       "    }\n",
       "\n",
       "    .dataframe thead th {\n",
       "        text-align: right;\n",
       "    }\n",
       "</style>\n",
       "<table border=\"1\" class=\"dataframe\">\n",
       "  <thead>\n",
       "    <tr style=\"text-align: right;\">\n",
       "      <th></th>\n",
       "      <th>Date</th>\n",
       "      <th>Block_Time_Value</th>\n",
       "      <th>Net_Hash_Value</th>\n",
       "      <th>Difficulty_Value</th>\n",
       "      <th>Change</th>\n",
       "      <th>Ratio</th>\n",
       "    </tr>\n",
       "  </thead>\n",
       "  <tbody>\n",
       "    <tr>\n",
       "      <th>620</th>\n",
       "      <td>2017-04-10</td>\n",
       "      <td>14.97</td>\n",
       "      <td>18072.1973</td>\n",
       "      <td>255973.0</td>\n",
       "      <td>2798.0</td>\n",
       "      <td>13.998704</td>\n",
       "    </tr>\n",
       "    <tr>\n",
       "      <th>621</th>\n",
       "      <td>2017-04-11</td>\n",
       "      <td>14.76</td>\n",
       "      <td>18671.3934</td>\n",
       "      <td>261037.0</td>\n",
       "      <td>5064.0</td>\n",
       "      <td>13.998704</td>\n",
       "    </tr>\n",
       "    <tr>\n",
       "      <th>622</th>\n",
       "      <td>2017-04-12</td>\n",
       "      <td>14.98</td>\n",
       "      <td>18555.8787</td>\n",
       "      <td>260942.0</td>\n",
       "      <td>-95.0</td>\n",
       "      <td>13.998704</td>\n",
       "    </tr>\n",
       "    <tr>\n",
       "      <th>623</th>\n",
       "      <td>2017-04-13</td>\n",
       "      <td>14.88</td>\n",
       "      <td>18205.0740</td>\n",
       "      <td>254806.0</td>\n",
       "      <td>-6136.0</td>\n",
       "      <td>13.998704</td>\n",
       "    </tr>\n",
       "    <tr>\n",
       "      <th>624</th>\n",
       "      <td>2017-04-14</td>\n",
       "      <td>14.62</td>\n",
       "      <td>19833.8120</td>\n",
       "      <td>271575.0</td>\n",
       "      <td>16769.0</td>\n",
       "      <td>13.998704</td>\n",
       "    </tr>\n",
       "  </tbody>\n",
       "</table>\n",
       "</div>"
      ],
      "text/plain": [
       "          Date  Block_Time_Value  Net_Hash_Value  Difficulty_Value   Change  \\\n",
       "620 2017-04-10             14.97      18072.1973          255973.0   2798.0   \n",
       "621 2017-04-11             14.76      18671.3934          261037.0   5064.0   \n",
       "622 2017-04-12             14.98      18555.8787          260942.0    -95.0   \n",
       "623 2017-04-13             14.88      18205.0740          254806.0  -6136.0   \n",
       "624 2017-04-14             14.62      19833.8120          271575.0  16769.0   \n",
       "\n",
       "         Ratio  \n",
       "620  13.998704  \n",
       "621  13.998704  \n",
       "622  13.998704  \n",
       "623  13.998704  \n",
       "624  13.998704  "
      ]
     },
     "execution_count": 14,
     "metadata": {},
     "output_type": "execute_result"
    }
   ],
   "source": [
    "data_b1 = data.iloc[620:820]\n",
    "data_b1.head()"
   ]
  },
  {
   "cell_type": "code",
   "execution_count": 15,
   "id": "41ac894b",
   "metadata": {
    "execution": {
     "iopub.execute_input": "2022-06-18T11:23:03.162464Z",
     "iopub.status.busy": "2022-06-18T11:23:03.161827Z",
     "iopub.status.idle": "2022-06-18T11:23:03.172372Z",
     "shell.execute_reply": "2022-06-18T11:23:03.171719Z"
    },
    "papermill": {
     "duration": 0.023657,
     "end_time": "2022-06-18T11:23:03.174343",
     "exception": false,
     "start_time": "2022-06-18T11:23:03.150686",
     "status": "completed"
    },
    "tags": []
   },
   "outputs": [
    {
     "name": "stdout",
     "output_type": "stream",
     "text": [
      "<class 'pandas.core.frame.DataFrame'>\n",
      "RangeIndex: 200 entries, 620 to 819\n",
      "Data columns (total 6 columns):\n",
      " #   Column            Non-Null Count  Dtype         \n",
      "---  ------            --------------  -----         \n",
      " 0   Date              200 non-null    datetime64[ns]\n",
      " 1   Block_Time_Value  200 non-null    float64       \n",
      " 2   Net_Hash_Value    200 non-null    float64       \n",
      " 3   Difficulty_Value  200 non-null    float64       \n",
      " 4   Change            200 non-null    float64       \n",
      " 5   Ratio             200 non-null    float64       \n",
      "dtypes: datetime64[ns](1), float64(5)\n",
      "memory usage: 9.5 KB\n"
     ]
    }
   ],
   "source": [
    "data_b1.info()"
   ]
  },
  {
   "cell_type": "markdown",
   "id": "b3d91a48",
   "metadata": {
    "papermill": {
     "duration": 0.01036,
     "end_time": "2022-06-18T11:23:03.194953",
     "exception": false,
     "start_time": "2022-06-18T11:23:03.184593",
     "status": "completed"
    },
    "tags": []
   },
   "source": [
    "**Taking help from effort definition of Physics, Difficulty = hash rate/number of miners**"
   ]
  },
  {
   "cell_type": "markdown",
   "id": "ce6f9c6c",
   "metadata": {
    "papermill": {
     "duration": 0.010829,
     "end_time": "2022-06-18T11:23:03.216267",
     "exception": false,
     "start_time": "2022-06-18T11:23:03.205438",
     "status": "completed"
    },
    "tags": []
   },
   "source": [
    "Difficulty and hashrate are closely related. If you divide network difficulty by network hashrate, you will get the average block find time of a cryptocurrency block. # from https://2miners.com/eth-network-difficulty"
   ]
  },
  {
   "cell_type": "code",
   "execution_count": 16,
   "id": "c3d8660f",
   "metadata": {
    "execution": {
     "iopub.execute_input": "2022-06-18T11:23:03.239790Z",
     "iopub.status.busy": "2022-06-18T11:23:03.239140Z",
     "iopub.status.idle": "2022-06-18T11:23:03.521204Z",
     "shell.execute_reply": "2022-06-18T11:23:03.520149Z"
    },
    "papermill": {
     "duration": 0.296478,
     "end_time": "2022-06-18T11:23:03.523478",
     "exception": false,
     "start_time": "2022-06-18T11:23:03.227000",
     "status": "completed"
    },
    "tags": []
   },
   "outputs": [
    {
     "data": {
      "text/plain": [
       "<AxesSubplot:xlabel='Date', ylabel='Ratio'>"
      ]
     },
     "execution_count": 16,
     "metadata": {},
     "output_type": "execute_result"
    },
    {
     "data": {
      "image/png": "[encoded data removed]",
      "text/plain": [
       "<Figure size 432x288 with 1 Axes>"
      ]
     },
     "metadata": {
      "needs_background": "light"
     },
     "output_type": "display_data"
    }
   ],
   "source": [
    "sns.lineplot(data = data, x=\"Date\", y=\"Ratio\")"
   ]
  },
  {
   "cell_type": "markdown",
   "id": "e748b1b3",
   "metadata": {
    "papermill": {
     "duration": 0.010268,
     "end_time": "2022-06-18T11:23:03.544463",
     "exception": false,
     "start_time": "2022-06-18T11:23:03.534195",
     "status": "completed"
    },
    "tags": []
   },
   "source": [
    "Thus if we model the expected difficulty from the formula : \\\\\n",
    "\n",
    "As we discussed in the previous section, following is the change (bold) introduced to ethereum difficulty algorithm to support the difficulty bomb:\n",
    "\n",
    "current_block_difficulty = parent_block_difficulty + (parent_block_difficulty // 2048) *1 + int(2**((current_block_number // 100000) — 2))\n",
    "\n",
    "from https://medium.facilelogin.com/the-mystery-behind-block-time-63351e35603a"
   ]
  },
  {
   "cell_type": "markdown",
   "id": "30934a3d",
   "metadata": {
    "papermill": {
     "duration": 0.010244,
     "end_time": "2022-06-18T11:23:03.565370",
     "exception": false,
     "start_time": "2022-06-18T11:23:03.555126",
     "status": "completed"
    },
    "tags": []
   },
   "source": [
    "We try to model the Hash rate using loose curve fitting onto the function : $10^8 \\cdot e^{(\\frac{x}{2}-4)}$"
   ]
  },
  {
   "cell_type": "code",
   "execution_count": 17,
   "id": "6a7d1074",
   "metadata": {
    "execution": {
     "iopub.execute_input": "2022-06-18T11:23:03.587856Z",
     "iopub.status.busy": "2022-06-18T11:23:03.587443Z",
     "iopub.status.idle": "2022-06-18T11:23:03.756183Z",
     "shell.execute_reply": "2022-06-18T11:23:03.755290Z"
    },
    "papermill": {
     "duration": 0.182828,
     "end_time": "2022-06-18T11:23:03.758552",
     "exception": false,
     "start_time": "2022-06-18T11:23:03.575724",
     "status": "completed"
    },
    "tags": []
   },
   "outputs": [
    {
     "data": {
      "image/png": "[encoded data removed]",
      "text/plain": [
       "<Figure size 720x288 with 1 Axes>"
      ]
     },
     "metadata": {
      "needs_background": "light"
     },
     "output_type": "display_data"
    }
   ],
   "source": [
    "# Import libraries\n",
    "import matplotlib.pyplot as plt\n",
    "import numpy as np\n",
    " \n",
    "# Creating vectors X and Y\n",
    "x = np.linspace(0, 10, 100)\n",
    "y = np.exp(((x)/2)-4)\n",
    " \n",
    "fig = plt.figure(figsize = (10, 4))\n",
    "# Create the plot\n",
    "plt.plot(x,y)\n",
    " \n",
    "# Show the plot\n",
    "plt.show()"
   ]
  },
  {
   "cell_type": "markdown",
   "id": "a0db4eb5",
   "metadata": {
    "papermill": {
     "duration": 0.011271,
     "end_time": "2022-06-18T11:23:03.780863",
     "exception": false,
     "start_time": "2022-06-18T11:23:03.769592",
     "status": "completed"
    },
    "tags": []
   },
   "source": [
    "Using gradient fitting"
   ]
  },
  {
   "cell_type": "code",
   "execution_count": 18,
   "id": "22dc8b8e",
   "metadata": {
    "execution": {
     "iopub.execute_input": "2022-06-18T11:23:03.805223Z",
     "iopub.status.busy": "2022-06-18T11:23:03.804614Z",
     "iopub.status.idle": "2022-06-18T11:23:04.086383Z",
     "shell.execute_reply": "2022-06-18T11:23:04.085325Z"
    },
    "papermill": {
     "duration": 0.29677,
     "end_time": "2022-06-18T11:23:04.088650",
     "exception": false,
     "start_time": "2022-06-18T11:23:03.791880",
     "status": "completed"
    },
    "tags": []
   },
   "outputs": [
    {
     "data": {
      "text/plain": [
       "<AxesSubplot:xlabel='Date', ylabel='Net_Hash_Value'>"
      ]
     },
     "execution_count": 18,
     "metadata": {},
     "output_type": "execute_result"
    },
    {
     "data": {
      "image/png": "[encoded data removed]",
      "text/plain": [
       "<Figure size 432x288 with 1 Axes>"
      ]
     },
     "metadata": {
      "needs_background": "light"
     },
     "output_type": "display_data"
    }
   ],
   "source": [
    "sns.lineplot(data = data, x=\"Date\", y=\"Net_Hash_Value\")"
   ]
  },
  {
   "cell_type": "markdown",
   "id": "73526ff3",
   "metadata": {
    "papermill": {
     "duration": 0.011475,
     "end_time": "2022-06-18T11:23:04.111618",
     "exception": false,
     "start_time": "2022-06-18T11:23:04.100143",
     "status": "completed"
    },
    "tags": []
   },
   "source": [
    "# Testing and Modelling"
   ]
  },
  {
   "cell_type": "markdown",
   "id": "32b59fe6",
   "metadata": {
    "papermill": {
     "duration": 0.011105,
     "end_time": "2022-06-18T11:23:04.134036",
     "exception": false,
     "start_time": "2022-06-18T11:23:04.122931",
     "status": "completed"
    },
    "tags": []
   },
   "source": [
    "Block Number In EIP = 15530314 \n",
    "\n",
    "Assumed Initial Block Time = 13.3s\n",
    "\n",
    "Assumed Initial Hash Rate = $10^8 \\cdot e^{(\\frac{1.5530314}{2}-4)}$ = 3981608.51038 GH/s\n",
    "\n",
    "Thus Assumed Difficulty = Assumed Initial Hash Rate*13.3 = 52955393.1881 GH"
   ]
  },
  {
   "cell_type": "markdown",
   "id": "2312ed26",
   "metadata": {
    "papermill": {
     "duration": 0.011035,
     "end_time": "2022-06-18T11:23:04.157351",
     "exception": false,
     "start_time": "2022-06-18T11:23:04.146316",
     "status": "completed"
    },
    "tags": []
   },
   "source": [
    "****Now The Bomb Goes off at Block = 15530314 ****"
   ]
  },
  {
   "cell_type": "code",
   "execution_count": 19,
   "id": "ccb137f2",
   "metadata": {
    "execution": {
     "iopub.execute_input": "2022-06-18T11:23:04.181518Z",
     "iopub.status.busy": "2022-06-18T11:23:04.181125Z",
     "iopub.status.idle": "2022-06-18T11:23:04.185908Z",
     "shell.execute_reply": "2022-06-18T11:23:04.185176Z"
    },
    "papermill": {
     "duration": 0.01938,
     "end_time": "2022-06-18T11:23:04.188090",
     "exception": false,
     "start_time": "2022-06-18T11:23:04.168710",
     "status": "completed"
    },
    "tags": []
   },
   "outputs": [
    {
     "name": "stdout",
     "output_type": "stream",
     "text": [
      "1.141798154164768e+46\n"
     ]
    }
   ],
   "source": [
    "new_difficulty = 52955.3931881 + (52955.3931881 // 2048) *1 + int(2**((15530314 // 100000)-2))\n",
    "print(new_difficulty)"
   ]
  },
  {
   "cell_type": "code",
   "execution_count": 20,
   "id": "bb6d00f4",
   "metadata": {
    "execution": {
     "iopub.execute_input": "2022-06-18T11:23:04.212258Z",
     "iopub.status.busy": "2022-06-18T11:23:04.211595Z",
     "iopub.status.idle": "2022-06-18T11:23:04.216280Z",
     "shell.execute_reply": "2022-06-18T11:23:04.215145Z"
    },
    "papermill": {
     "duration": 0.019048,
     "end_time": "2022-06-18T11:23:04.218323",
     "exception": false,
     "start_time": "2022-06-18T11:23:04.199275",
     "status": "completed"
    },
    "tags": []
   },
   "outputs": [
    {
     "name": "stdout",
     "output_type": "stream",
     "text": [
      "3981608.51038\n"
     ]
    }
   ],
   "source": [
    "new_hash_rate = 3981608.51038 \n",
    "print(new_hash_rate)"
   ]
  },
  {
   "cell_type": "code",
   "execution_count": 21,
   "id": "088b6679",
   "metadata": {
    "execution": {
     "iopub.execute_input": "2022-06-18T11:23:04.242732Z",
     "iopub.status.busy": "2022-06-18T11:23:04.242321Z",
     "iopub.status.idle": "2022-06-18T11:23:04.247032Z",
     "shell.execute_reply": "2022-06-18T11:23:04.245907Z"
    },
    "papermill": {
     "duration": 0.019622,
     "end_time": "2022-06-18T11:23:04.249092",
     "exception": false,
     "start_time": "2022-06-18T11:23:04.229470",
     "status": "completed"
    },
    "tags": []
   },
   "outputs": [
    {
     "name": "stdout",
     "output_type": "stream",
     "text": [
      "2.86768061497788e+39\n"
     ]
    }
   ],
   "source": [
    "new_block_time = new_difficulty/new_hash_rate\n",
    "print(new_block_time)"
   ]
  },
  {
   "cell_type": "markdown",
   "id": "b0b49884",
   "metadata": {
    "papermill": {
     "duration": 0.011261,
     "end_time": "2022-06-18T11:23:04.272128",
     "exception": false,
     "start_time": "2022-06-18T11:23:04.260867",
     "status": "completed"
    },
    "tags": []
   },
   "source": [
    "# Plotting The Predicted Block Time After Bomb Goes Off"
   ]
  },
  {
   "cell_type": "code",
   "execution_count": 22,
   "id": "38fc49c8",
   "metadata": {
    "execution": {
     "iopub.execute_input": "2022-06-18T11:23:04.296250Z",
     "iopub.status.busy": "2022-06-18T11:23:04.295837Z",
     "iopub.status.idle": "2022-06-18T11:23:04.301096Z",
     "shell.execute_reply": "2022-06-18T11:23:04.300331Z"
    },
    "papermill": {
     "duration": 0.02019,
     "end_time": "2022-06-18T11:23:04.303267",
     "exception": false,
     "start_time": "2022-06-18T11:23:04.283077",
     "status": "completed"
    },
    "tags": []
   },
   "outputs": [],
   "source": [
    "import matplotlib.pyplot as plt\n",
    "import numpy as np\n",
    "# if using a Jupyter notebook, include:\n",
    "%matplotlib inline"
   ]
  },
  {
   "cell_type": "code",
   "execution_count": 23,
   "id": "c0ce506d",
   "metadata": {
    "execution": {
     "iopub.execute_input": "2022-06-18T11:23:04.328956Z",
     "iopub.status.busy": "2022-06-18T11:23:04.327929Z",
     "iopub.status.idle": "2022-06-18T11:23:04.332553Z",
     "shell.execute_reply": "2022-06-18T11:23:04.331764Z"
    },
    "papermill": {
     "duration": 0.019951,
     "end_time": "2022-06-18T11:23:04.334492",
     "exception": false,
     "start_time": "2022-06-18T11:23:04.314541",
     "status": "completed"
    },
    "tags": []
   },
   "outputs": [],
   "source": [
    "x = data_b1[\"Net_Hash_Value\"]\n",
    "y = data_b1[\"Difficulty_Value\"]"
   ]
  },
  {
   "cell_type": "code",
   "execution_count": 24,
   "id": "11567dee",
   "metadata": {
    "execution": {
     "iopub.execute_input": "2022-06-18T11:23:04.359437Z",
     "iopub.status.busy": "2022-06-18T11:23:04.358733Z",
     "iopub.status.idle": "2022-06-18T11:23:04.528882Z",
     "shell.execute_reply": "2022-06-18T11:23:04.528202Z"
    },
    "papermill": {
     "duration": 0.185062,
     "end_time": "2022-06-18T11:23:04.530777",
     "exception": false,
     "start_time": "2022-06-18T11:23:04.345715",
     "status": "completed"
    },
    "tags": []
   },
   "outputs": [
    {
     "name": "stdout",
     "output_type": "stream",
     "text": [
      "[<matplotlib.lines.Line2D object at 0x7f7a79d07c10>]\n"
     ]
    },
    {
     "data": {
      "image/png": "[encoded data removed]",
      "text/plain": [
       "<Figure size 432x288 with 1 Axes>"
      ]
     },
     "metadata": {
      "needs_background": "light"
     },
     "output_type": "display_data"
    }
   ],
   "source": [
    "print(plt.plot(x, y))"
   ]
  },
  {
   "cell_type": "code",
   "execution_count": 25,
   "id": "562639b7",
   "metadata": {
    "execution": {
     "iopub.execute_input": "2022-06-18T11:23:04.555271Z",
     "iopub.status.busy": "2022-06-18T11:23:04.554865Z",
     "iopub.status.idle": "2022-06-18T11:23:04.563250Z",
     "shell.execute_reply": "2022-06-18T11:23:04.562297Z"
    },
    "papermill": {
     "duration": 0.023797,
     "end_time": "2022-06-18T11:23:04.565844",
     "exception": false,
     "start_time": "2022-06-18T11:23:04.542047",
     "status": "completed"
    },
    "tags": []
   },
   "outputs": [
    {
     "name": "stdout",
     "output_type": "stream",
     "text": [
      "[0.16391132471755476, -0.01941513374143966, 0.06249761699509193, -0.0035724106367265307, -0.3074733187951981, 0.14304309833001305, -0.08697336997366101, -0.14719349496677125, -0.0735024228702219, 0.38082798778434146, -0.00356906721535033, -0.02167925686280192, 0.2151857345486281, -0.04652282687944442, 0.2857373753500312, -0.17821411543373422, 0.5088270943027027, 0.5112693655810006, 0.3188736338193614, 0.5773399789945035, 0.4990878257404461, 0.4869189938468832, 0.4192268379597408, 0.37602514387247155, 0.4602661526102185, 0.29515264454868095, 0.304637291373556, 0.22221273340879044, 0.45297907879116117, 0.27628565202323685, 0.3450252250160144, 0.31649778504128, 0.20586748763541252, 0.525887773906998, 1.0575272019710784, 0.8862944606247005, 0.7742954322779667, 1.2488544564502888, 0.9403316970073412, 0.9791946568641823, 0.8504532167072085, 0.7970510130126218, 0.756631033696328, 0.8402651828127876, 0.8173544395518988, 0.6988633982832138, 0.6341393833324283, 0.7189175738096729, 0.688877960882671, 0.3378668810788472, 0.15234646887253867, 0.7189156358220874, 1.062756716004733, 1.8270792757007985, 1.3983327293350332, 1.5731690460988528, 1.2650106617007513, 1.4396063935915198, 1.2542348152164546, 1.3164385699822923, 1.3245753722387583, 1.073267749145888, 1.1658690765764774, 1.0391543770816725, 0.930008303684259, 0.966221051753724, 1.0078066560744627, 0.9326005161529203, 0.9351864917491497, 0.8072047032416148, 0.7515789204440697, 1.803914324761525, 2.158597991490126, 1.9380129879115735, 2.222297898585527, 1.9556793356163436, 2.0415978524054523, 1.815482074271948, 1.9527292257912663, 1.8532053797265036, 1.6408393108424093, 1.7664233406150025, 1.8677610911143887, 1.8794278677351954, 1.5844231771642665, 1.4313254148356744, 1.7808214403839724, 1.7205269084441372, 1.475548939448057, 1.6521755087345404, 1.7348457808962667, 3.34591520789758, 3.690420721748268, 3.7194494163379126, 3.8734026393153833, 3.87340107912717, 3.6110884671479724, 3.7158095360594743, 4.060199230674563, 3.7449116208611457, 3.3354741078441315, 3.3146250600237614, 3.832818698406605, 3.518249415613518, 3.3738206077596367, 3.6940337593868833, 3.214584632823616, 3.3285155499506445, 3.4792690328944076, 3.183772180774575, 3.3948013052928694, 3.2077214541269363, 3.6398590053268904, 5.880349700885763, 6.158650639912594, 6.295980389481414, 5.944599466068308, 6.0743500494801275, 5.981498320149356, 5.672137223289699, 5.640824161034065, 5.560789982119438, 5.775695794302287, 5.380882548169257, 5.393937891130669, 5.290020098050071, 5.298636951768497, 5.098147609212649, 4.770369213427848, 4.786689584527778, 5.0182747041675775, 4.819434228360095, 5.217081053952889, 4.644796906031189, 4.807144451027334, 4.750000426007588, 4.8030478922260755, 8.600051670404994, 8.929932365034531, 8.826947585560745, 9.046149556284785, 8.210800667249998, 8.383415631315021, 8.6177989976796, 8.564638630914224, 8.564636497116826, 8.85714043096948, 8.441560849453925, 8.205083760201969, 8.412451504362878, 8.153850271899142, 8.029580814716876, 8.302528552038776, 8.348677258204052, 8.55874277027256, 7.9791407462063795, 8.44738939410577, 7.990330287776221, 7.65956195181705, 7.928935558435391, 8.13681740344066, 8.216509423298081, 7.912245342066647, 8.17090276852467, 7.984728484764954, 13.101631671734204, 14.486643012929594, 13.59501549001418, 14.685255399566667, 14.033739824418625, 13.59501666595666, 14.430406546335753, 14.675739248819585, 14.524265941875818, 14.134155737900898, 14.189233642447888, 14.015568195900727, 13.763494857655093, 13.559808623455798, 14.32787164625745, 14.374383470228313, 14.01556176902384, 13.997411154866398, 13.45472129399495, 13.428570378579025, 13.61266002521548, 13.54223930520454, 13.754574971017469, 13.289954829769048, 3.088611710577254, -1.50361724547529, -1.586207028673126, -1.6217725885101864, -1.6518540827887005, -1.3942233044788779, -1.55042908095961, -1.6377140100817726, -1.694057212788275, -1.4945721911982215, -1.4782575562379652]\n"
     ]
    }
   ],
   "source": [
    "delayL = []\n",
    "for i in range(620,820):\n",
    "    delayL.append((data_b1[\"Difficulty_Value\"][i]/data_b1[\"Net_Hash_Value\"][i])-14)\n",
    "    \n",
    "print(delayL)"
   ]
  },
  {
   "cell_type": "code",
   "execution_count": 26,
   "id": "6f72e9b6",
   "metadata": {
    "execution": {
     "iopub.execute_input": "2022-06-18T11:23:04.591294Z",
     "iopub.status.busy": "2022-06-18T11:23:04.590553Z",
     "iopub.status.idle": "2022-06-18T11:23:04.599391Z",
     "shell.execute_reply": "2022-06-18T11:23:04.598076Z"
    },
    "papermill": {
     "duration": 0.02499,
     "end_time": "2022-06-18T11:23:04.602399",
     "exception": false,
     "start_time": "2022-06-18T11:23:04.577409",
     "status": "completed"
    },
    "tags": []
   },
   "outputs": [
    {
     "name": "stdout",
     "output_type": "stream",
     "text": [
      "            0\n",
      "0    0.163911\n",
      "1   -0.019415\n",
      "2    0.062498\n",
      "3   -0.003572\n",
      "4   -0.307473\n",
      "..        ...\n",
      "195 -1.550429\n",
      "196 -1.637714\n",
      "197 -1.694057\n",
      "198 -1.494572\n",
      "199 -1.478258\n",
      "\n",
      "[200 rows x 1 columns]\n"
     ]
    }
   ],
   "source": [
    "# Import pandas package\n",
    "import pandas as pd\n",
    " \n",
    "# Define a dictionary containing employee data\n",
    "df = pd.DataFrame(delayL)\n",
    " \n",
    "# select two columns\n",
    "print(df)"
   ]
  },
  {
   "cell_type": "code",
   "execution_count": 27,
   "id": "0d56f9c3",
   "metadata": {
    "execution": {
     "iopub.execute_input": "2022-06-18T11:23:04.628375Z",
     "iopub.status.busy": "2022-06-18T11:23:04.627517Z",
     "iopub.status.idle": "2022-06-18T11:23:04.860068Z",
     "shell.execute_reply": "2022-06-18T11:23:04.859109Z"
    },
    "papermill": {
     "duration": 0.247279,
     "end_time": "2022-06-18T11:23:04.862054",
     "exception": false,
     "start_time": "2022-06-18T11:23:04.614775",
     "status": "completed"
    },
    "tags": []
   },
   "outputs": [
    {
     "data": {
      "text/plain": [
       "<AxesSubplot:>"
      ]
     },
     "execution_count": 27,
     "metadata": {},
     "output_type": "execute_result"
    },
    {
     "data": {
      "image/png": "[encoded data removed]",
      "text/plain": [
       "<Figure size 432x288 with 1 Axes>"
      ]
     },
     "metadata": {
      "needs_background": "light"
     },
     "output_type": "display_data"
    }
   ],
   "source": [
    "sns.lineplot(data=df)"
   ]
  },
  {
   "cell_type": "code",
   "execution_count": 28,
   "id": "c3212674",
   "metadata": {
    "execution": {
     "iopub.execute_input": "2022-06-18T11:23:04.887856Z",
     "iopub.status.busy": "2022-06-18T11:23:04.887500Z",
     "iopub.status.idle": "2022-06-18T11:23:04.891580Z",
     "shell.execute_reply": "2022-06-18T11:23:04.890678Z"
    },
    "papermill": {
     "duration": 0.01929,
     "end_time": "2022-06-18T11:23:04.893439",
     "exception": false,
     "start_time": "2022-06-18T11:23:04.874149",
     "status": "completed"
    },
    "tags": []
   },
   "outputs": [],
   "source": [
    "df = df+13.3"
   ]
  },
  {
   "cell_type": "code",
   "execution_count": 29,
   "id": "66701a1d",
   "metadata": {
    "execution": {
     "iopub.execute_input": "2022-06-18T11:23:04.920702Z",
     "iopub.status.busy": "2022-06-18T11:23:04.919578Z",
     "iopub.status.idle": "2022-06-18T11:23:05.145605Z",
     "shell.execute_reply": "2022-06-18T11:23:05.144439Z"
    },
    "papermill": {
     "duration": 0.241967,
     "end_time": "2022-06-18T11:23:05.148035",
     "exception": false,
     "start_time": "2022-06-18T11:23:04.906068",
     "status": "completed"
    },
    "tags": []
   },
   "outputs": [
    {
     "data": {
      "text/plain": [
       "<AxesSubplot:>"
      ]
     },
     "execution_count": 29,
     "metadata": {},
     "output_type": "execute_result"
    },
    {
     "data": {
      "image/png": "[encoded data removed]",
      "text/plain": [
       "<Figure size 432x288 with 1 Axes>"
      ]
     },
     "metadata": {
      "needs_background": "light"
     },
     "output_type": "display_data"
    }
   ],
   "source": [
    "sns.lineplot(data=df)"
   ]
  },
  {
   "cell_type": "markdown",
   "id": "0dc3e5cf",
   "metadata": {
    "papermill": {
     "duration": 0.012754,
     "end_time": "2022-06-18T11:23:05.173895",
     "exception": false,
     "start_time": "2022-06-18T11:23:05.161141",
     "status": "completed"
    },
    "tags": []
   },
   "source": [
    "The given DataFrame tells us what the predicted delays are supposed to be on average with dynamic changes \n",
    "\n",
    "The Data is modelled as for 200 days after including the day the bomb started showing up. "
   ]
  }
 ],
 "metadata": {
  "kernelspec": {
   "display_name": "Python 3",
   "language": "python",
   "name": "python3"
  },
  "language_info": {
   "codemirror_mode": {
    "name": "ipython",
    "version": 3
   },
   "file_extension": ".py",
   "mimetype": "text/x-python",
   "name": "python",
   "nbconvert_exporter": "python",
   "pygments_lexer": "ipython3",
   "version": "3.7.12"
  },
  "papermill": {
   "default_parameters": {},
   "duration": 15.334194,
   "end_time": "2022-06-18T11:23:05.908691",
   "environment_variables": {},
   "exception": null,
   "input_path": "__notebook__.ipynb",
   "output_path": "__notebook__.ipynb",
   "parameters": {},
   "start_time": "2022-06-18T11:22:50.574497",
   "version": "2.3.4"
  }
 },
 "nbformat": 4,
 "nbformat_minor": 5
}
